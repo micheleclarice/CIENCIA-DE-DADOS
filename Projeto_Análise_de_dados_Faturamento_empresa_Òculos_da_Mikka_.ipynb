{
  "cells": [
    {
      "cell_type": "markdown",
      "metadata": {
        "id": "view-in-github",
        "colab_type": "text"
      },
      "source": [
        "<a href=\"https://colab.research.google.com/github/micheleclarice/CIENCIA-DE-DADOS/blob/main/Projeto_An%C3%A1lise_de_dados_Faturamento_empresa_%C3%92culos_da_Mikka_.ipynb\" target=\"_parent\"><img src=\"https://colab.research.google.com/assets/colab-badge.svg\" alt=\"Open In Colab\"/></a>"
      ]
    },
    {
      "cell_type": "markdown",
      "source": [
        "<h1 align=\"center\">Oi 👋, Eu sou Michele Santana</h1>\n",
        "<h3 align=\"center\">Apaixonada por Engenharia e Análise de Dados e Python </h3>\n",
        "\n",
        "#Projeto de Análise de Dados na Empresa Óculos da Mikka\n",
        "\n",
        "###Desafio: Avaliar Faturamento x Soluções de Negócio\n",
        "    \n",
        "\n",
        "1) Empresa tem 5 Filiais\n",
        "\n",
        "2) Está querendo aumentar as vendas\n",
        "\n",
        "3) Como Faturar mais?\n",
        "\n",
        "\n",
        "\n",
        "Obs: Informações Disponíveis: Base de Vendas (onde todos os dados e valores são somente simulações)\n",
        "<h3 align=\"left\">Connect with me:</h3>\n",
        "<p align=\"left\">\n",
        "<a href=\"https://fb.com/https://www.facebook.com/michele.machadodesantana/\" target=\"blank\"><img align=\"center\" src=\"https://raw.githubusercontent.com/rahuldkjain/github-profile-readme-generator/master/src/images/icons/Social/facebook.svg\" alt=\"https://www.facebook.com/michele.machadodesantana/\" height=\"30\" width=\"40\" /></a>\n",
        "<a href=\"https://discord.gg/micheleclarice#7754\" target=\"blank\"><img align=\"center\" src=\"https://raw.githubusercontent.com/rahuldkjain/github-profile-readme-generator/master/src/images/icons/Social/discord.svg\" alt=\"micheleclarice#7754\" height=\"30\" width=\"40\" /></a>\n",
        "</p>\n",
        "\n",
        "\n",
        "\n",
        "\n"
      ],
      "metadata": {
        "id": "Exe4XnF51nNF"
      },
      "id": "Exe4XnF51nNF"
    },
    {
      "cell_type": "markdown",
      "source": [
        ""
      ],
      "metadata": {
        "id": "EEmsLUG16cST"
      },
      "id": "EEmsLUG16cST"
    },
    {
      "cell_type": "markdown",
      "source": [
        "# Importando as Bibliotecas para o Python"
      ],
      "metadata": {
        "id": "lSKFwAXJ57HA"
      },
      "id": "lSKFwAXJ57HA"
    },
    {
      "cell_type": "code",
      "execution_count": null,
      "id": "d316bd1c",
      "metadata": {
        "id": "d316bd1c"
      },
      "outputs": [],
      "source": [
        "import plotly.express as px\n",
        "import pandas as pd  \n"
      ]
    },
    {
      "cell_type": "markdown",
      "source": [
        "# Carregando Planilha de Vendas em Excel: Dados sobre Produtos x Valores x Filiais"
      ],
      "metadata": {
        "id": "SY-C6kp06Mb0"
      },
      "id": "SY-C6kp06Mb0"
    },
    {
      "cell_type": "code",
      "execution_count": null,
      "id": "de979a4d",
      "metadata": {
        "scrolled": true,
        "id": "de979a4d",
        "outputId": "03c66c44-9a84-498a-ab7b-f891e49e3f7c"
      },
      "outputs": [
        {
          "data": {
            "text/html": [
              "<div>\n",
              "<style scoped>\n",
              "    .dataframe tbody tr th:only-of-type {\n",
              "        vertical-align: middle;\n",
              "    }\n",
              "\n",
              "    .dataframe tbody tr th {\n",
              "        vertical-align: top;\n",
              "    }\n",
              "\n",
              "    .dataframe thead th {\n",
              "        text-align: right;\n",
              "    }\n",
              "</style>\n",
              "<table border=\"1\" class=\"dataframe\">\n",
              "  <thead>\n",
              "    <tr style=\"text-align: right;\">\n",
              "      <th></th>\n",
              "      <th>Data</th>\n",
              "      <th>ID Loja</th>\n",
              "      <th>Produto</th>\n",
              "      <th>Quantidade</th>\n",
              "      <th>Valor Unitário</th>\n",
              "      <th>Valor Final</th>\n",
              "    </tr>\n",
              "  </thead>\n",
              "  <tbody>\n",
              "    <tr>\n",
              "      <th>0</th>\n",
              "      <td>2019-12-01</td>\n",
              "      <td>Óculos e Acessórios da Mikka FSA</td>\n",
              "      <td>Estampa</td>\n",
              "      <td>1</td>\n",
              "      <td>169</td>\n",
              "      <td>169</td>\n",
              "    </tr>\n",
              "    <tr>\n",
              "      <th>1</th>\n",
              "      <td>2019-12-01</td>\n",
              "      <td>Óculos e Acessórios da Mikka SSA</td>\n",
              "      <td>Bermuda Xadrez</td>\n",
              "      <td>1</td>\n",
              "      <td>155</td>\n",
              "      <td>155</td>\n",
              "    </tr>\n",
              "    <tr>\n",
              "      <th>2</th>\n",
              "      <td>2019-12-01</td>\n",
              "      <td>Óculos e Acessórios da Mikka Alagoinhas</td>\n",
              "      <td>Bermuda</td>\n",
              "      <td>2</td>\n",
              "      <td>150</td>\n",
              "      <td>300</td>\n",
              "    </tr>\n",
              "    <tr>\n",
              "      <th>3</th>\n",
              "      <td>2019-12-01</td>\n",
              "      <td>Óculos e Acessórios da Mikka FSA</td>\n",
              "      <td>Bermuda Listrado</td>\n",
              "      <td>3</td>\n",
              "      <td>163</td>\n",
              "      <td>489</td>\n",
              "    </tr>\n",
              "    <tr>\n",
              "      <th>4</th>\n",
              "      <td>2019-12-01</td>\n",
              "      <td>Óculos e Acessórios da Mikka FSA</td>\n",
              "      <td>Bermuda Linho</td>\n",
              "      <td>3</td>\n",
              "      <td>195</td>\n",
              "      <td>585</td>\n",
              "    </tr>\n",
              "    <tr>\n",
              "      <th>5</th>\n",
              "      <td>2019-12-03</td>\n",
              "      <td>Óculos e Acessórios da Mikka FSA</td>\n",
              "      <td>Bermuda Xadrez</td>\n",
              "      <td>1</td>\n",
              "      <td>155</td>\n",
              "      <td>155</td>\n",
              "    </tr>\n",
              "    <tr>\n",
              "      <th>6</th>\n",
              "      <td>2019-12-03</td>\n",
              "      <td>Óculos e Acessórios da Mikka SERRINHA</td>\n",
              "      <td>Bermuda Listrado</td>\n",
              "      <td>1</td>\n",
              "      <td>163</td>\n",
              "      <td>163</td>\n",
              "    </tr>\n",
              "    <tr>\n",
              "      <th>7</th>\n",
              "      <td>2019-12-03</td>\n",
              "      <td>Óculos e Acessórios da Mikka SERRINHA</td>\n",
              "      <td>Bermuda Xadrez</td>\n",
              "      <td>3</td>\n",
              "      <td>155</td>\n",
              "      <td>465</td>\n",
              "    </tr>\n",
              "    <tr>\n",
              "      <th>8</th>\n",
              "      <td>2019-12-03</td>\n",
              "      <td>Óculos e Acessórios da Mikka SERRINHA</td>\n",
              "      <td>Bermuda Estampa</td>\n",
              "      <td>1</td>\n",
              "      <td>169</td>\n",
              "      <td>169</td>\n",
              "    </tr>\n",
              "    <tr>\n",
              "      <th>9</th>\n",
              "      <td>2019-12-04</td>\n",
              "      <td>Óculos e Acessórios da Mikka CABUÇU</td>\n",
              "      <td>Bermuda Xadrez</td>\n",
              "      <td>4</td>\n",
              "      <td>155</td>\n",
              "      <td>620</td>\n",
              "    </tr>\n",
              "    <tr>\n",
              "      <th>10</th>\n",
              "      <td>2019-12-04</td>\n",
              "      <td>Óculos e Acessórios da Mikka SSA</td>\n",
              "      <td>Bermuda</td>\n",
              "      <td>1</td>\n",
              "      <td>150</td>\n",
              "      <td>150</td>\n",
              "    </tr>\n",
              "    <tr>\n",
              "      <th>11</th>\n",
              "      <td>2019-12-04</td>\n",
              "      <td>Óculos e Acessórios da Mikka SERRINHA</td>\n",
              "      <td>Bermuda Estampa</td>\n",
              "      <td>2</td>\n",
              "      <td>169</td>\n",
              "      <td>338</td>\n",
              "    </tr>\n",
              "    <tr>\n",
              "      <th>12</th>\n",
              "      <td>2019-12-04</td>\n",
              "      <td>Óculos e Acessórios da Mikka FSA</td>\n",
              "      <td>Bermuda</td>\n",
              "      <td>4</td>\n",
              "      <td>150</td>\n",
              "      <td>600</td>\n",
              "    </tr>\n",
              "    <tr>\n",
              "      <th>13</th>\n",
              "      <td>2019-12-05</td>\n",
              "      <td>Óculos e Acessórios da Mikka FSA</td>\n",
              "      <td>Bermuda Liso</td>\n",
              "      <td>55</td>\n",
              "      <td>157</td>\n",
              "      <td>8635</td>\n",
              "    </tr>\n",
              "    <tr>\n",
              "      <th>14</th>\n",
              "      <td>2019-12-05</td>\n",
              "      <td>Óculos e Acessórios da Mikka FSA</td>\n",
              "      <td>Bermuda</td>\n",
              "      <td>4</td>\n",
              "      <td>150</td>\n",
              "      <td>600</td>\n",
              "    </tr>\n",
              "    <tr>\n",
              "      <th>15</th>\n",
              "      <td>2019-12-05</td>\n",
              "      <td>Óculos e Acessórios da Mikka SERRINHA</td>\n",
              "      <td>Bermuda Listrado</td>\n",
              "      <td>1</td>\n",
              "      <td>163</td>\n",
              "      <td>163</td>\n",
              "    </tr>\n",
              "    <tr>\n",
              "      <th>16</th>\n",
              "      <td>2019-12-06</td>\n",
              "      <td>Óculos e Acessórios da Mikka SSA</td>\n",
              "      <td>Bermuda Estampa</td>\n",
              "      <td>1</td>\n",
              "      <td>169</td>\n",
              "      <td>169</td>\n",
              "    </tr>\n",
              "    <tr>\n",
              "      <th>17</th>\n",
              "      <td>2019-12-07</td>\n",
              "      <td>Óculos e Acessórios da Mikka FSA</td>\n",
              "      <td>Bermuda Xadrez</td>\n",
              "      <td>1</td>\n",
              "      <td>155</td>\n",
              "      <td>155</td>\n",
              "    </tr>\n",
              "    <tr>\n",
              "      <th>18</th>\n",
              "      <td>2019-12-07</td>\n",
              "      <td>Óculos e Acessórios da Mikka SERRINHA</td>\n",
              "      <td>Bermuda</td>\n",
              "      <td>3</td>\n",
              "      <td>150</td>\n",
              "      <td>450</td>\n",
              "    </tr>\n",
              "    <tr>\n",
              "      <th>19</th>\n",
              "      <td>2019-12-08</td>\n",
              "      <td>Óculos e Acessórios da Mikka CABUÇU</td>\n",
              "      <td>Bermuda Linho</td>\n",
              "      <td>4</td>\n",
              "      <td>195</td>\n",
              "      <td>780</td>\n",
              "    </tr>\n",
              "    <tr>\n",
              "      <th>20</th>\n",
              "      <td>2019-12-08</td>\n",
              "      <td>Óculos e Acessórios da Mikka FSA</td>\n",
              "      <td>Bermuda Estampa</td>\n",
              "      <td>4</td>\n",
              "      <td>169</td>\n",
              "      <td>676</td>\n",
              "    </tr>\n",
              "    <tr>\n",
              "      <th>21</th>\n",
              "      <td>2019-12-09</td>\n",
              "      <td>Óculos e Acessórios da Mikka SSA</td>\n",
              "      <td>Bermuda Xadrez</td>\n",
              "      <td>3</td>\n",
              "      <td>155</td>\n",
              "      <td>465</td>\n",
              "    </tr>\n",
              "    <tr>\n",
              "      <th>22</th>\n",
              "      <td>2019-12-10</td>\n",
              "      <td>Óculos e Acessórios da Mikka CABUÇU</td>\n",
              "      <td>Bermuda Listrado</td>\n",
              "      <td>1</td>\n",
              "      <td>163</td>\n",
              "      <td>163</td>\n",
              "    </tr>\n",
              "    <tr>\n",
              "      <th>23</th>\n",
              "      <td>2019-12-11</td>\n",
              "      <td>Óculos e Acessórios da Mikka FSA</td>\n",
              "      <td>Bermuda Xadrez</td>\n",
              "      <td>1</td>\n",
              "      <td>155</td>\n",
              "      <td>155</td>\n",
              "    </tr>\n",
              "  </tbody>\n",
              "</table>\n",
              "</div>"
            ],
            "text/plain": [
              "         Data                                  ID Loja           Produto  \\\n",
              "0  2019-12-01         Óculos e Acessórios da Mikka FSA           Estampa   \n",
              "1  2019-12-01         Óculos e Acessórios da Mikka SSA    Bermuda Xadrez   \n",
              "2  2019-12-01  Óculos e Acessórios da Mikka Alagoinhas           Bermuda   \n",
              "3  2019-12-01         Óculos e Acessórios da Mikka FSA  Bermuda Listrado   \n",
              "4  2019-12-01         Óculos e Acessórios da Mikka FSA     Bermuda Linho   \n",
              "5  2019-12-03         Óculos e Acessórios da Mikka FSA    Bermuda Xadrez   \n",
              "6  2019-12-03    Óculos e Acessórios da Mikka SERRINHA  Bermuda Listrado   \n",
              "7  2019-12-03    Óculos e Acessórios da Mikka SERRINHA    Bermuda Xadrez   \n",
              "8  2019-12-03    Óculos e Acessórios da Mikka SERRINHA   Bermuda Estampa   \n",
              "9  2019-12-04      Óculos e Acessórios da Mikka CABUÇU    Bermuda Xadrez   \n",
              "10 2019-12-04         Óculos e Acessórios da Mikka SSA           Bermuda   \n",
              "11 2019-12-04    Óculos e Acessórios da Mikka SERRINHA   Bermuda Estampa   \n",
              "12 2019-12-04         Óculos e Acessórios da Mikka FSA           Bermuda   \n",
              "13 2019-12-05         Óculos e Acessórios da Mikka FSA      Bermuda Liso   \n",
              "14 2019-12-05         Óculos e Acessórios da Mikka FSA           Bermuda   \n",
              "15 2019-12-05    Óculos e Acessórios da Mikka SERRINHA  Bermuda Listrado   \n",
              "16 2019-12-06         Óculos e Acessórios da Mikka SSA   Bermuda Estampa   \n",
              "17 2019-12-07         Óculos e Acessórios da Mikka FSA    Bermuda Xadrez   \n",
              "18 2019-12-07    Óculos e Acessórios da Mikka SERRINHA           Bermuda   \n",
              "19 2019-12-08      Óculos e Acessórios da Mikka CABUÇU     Bermuda Linho   \n",
              "20 2019-12-08         Óculos e Acessórios da Mikka FSA   Bermuda Estampa   \n",
              "21 2019-12-09         Óculos e Acessórios da Mikka SSA    Bermuda Xadrez   \n",
              "22 2019-12-10      Óculos e Acessórios da Mikka CABUÇU  Bermuda Listrado   \n",
              "23 2019-12-11         Óculos e Acessórios da Mikka FSA    Bermuda Xadrez   \n",
              "\n",
              "    Quantidade  Valor Unitário  Valor Final  \n",
              "0            1             169          169  \n",
              "1            1             155          155  \n",
              "2            2             150          300  \n",
              "3            3             163          489  \n",
              "4            3             195          585  \n",
              "5            1             155          155  \n",
              "6            1             163          163  \n",
              "7            3             155          465  \n",
              "8            1             169          169  \n",
              "9            4             155          620  \n",
              "10           1             150          150  \n",
              "11           2             169          338  \n",
              "12           4             150          600  \n",
              "13          55             157         8635  \n",
              "14           4             150          600  \n",
              "15           1             163          163  \n",
              "16           1             169          169  \n",
              "17           1             155          155  \n",
              "18           3             150          450  \n",
              "19           4             195          780  \n",
              "20           4             169          676  \n",
              "21           3             155          465  \n",
              "22           1             163          163  \n",
              "23           1             155          155  "
            ]
          },
          "metadata": {},
          "output_type": "display_data"
        }
      ],
      "source": [
        "tabela = pd.read_excel(r\"C:\\Users\\miche\\OneDrive\\Área de Trabalho\\Projeto análise de Dados\\Vendas.xlsx\")\n",
        "display(tabela)\n"
      ]
    },
    {
      "cell_type": "markdown",
      "source": [
        "# Avaliando Cenário da base de \"Dados de vendas\"= Valor Total Faturado"
      ],
      "metadata": {
        "id": "H-1h5vNB6sxW"
      },
      "id": "H-1h5vNB6sxW"
    },
    {
      "cell_type": "code",
      "execution_count": null,
      "id": "2492f465",
      "metadata": {
        "id": "2492f465",
        "outputId": "2e913e49-f318-44ca-fe57-ab38cea18a72"
      },
      "outputs": [
        {
          "name": "stdout",
          "output_type": "stream",
          "text": [
            "16769\n"
          ]
        }
      ],
      "source": [
        "faturamento_total = tabela[\"Valor Final\"].sum()\n",
        "print(faturamento_total)"
      ]
    },
    {
      "cell_type": "markdown",
      "source": [
        "# Análise Top -> Down (Escolher item da tabela + agrupar + calcular valor faturamento por loja)"
      ],
      "metadata": {
        "id": "BeAdUrg-7FCH"
      },
      "id": "BeAdUrg-7FCH"
    },
    {
      "cell_type": "code",
      "execution_count": null,
      "id": "ba198be0",
      "metadata": {
        "id": "ba198be0"
      },
      "outputs": [],
      "source": [
        "\n",
        "#A loja menor Faturamento: Iguatemi Esplanada \n"
      ]
    },
    {
      "cell_type": "code",
      "execution_count": null,
      "id": "6fcc9b3c",
      "metadata": {
        "id": "6fcc9b3c",
        "outputId": "f07f3cc5-9f47-42ca-fcb2-9eada6030c58"
      },
      "outputs": [
        {
          "data": {
            "text/html": [
              "<div>\n",
              "<style scoped>\n",
              "    .dataframe tbody tr th:only-of-type {\n",
              "        vertical-align: middle;\n",
              "    }\n",
              "\n",
              "    .dataframe tbody tr th {\n",
              "        vertical-align: top;\n",
              "    }\n",
              "\n",
              "    .dataframe thead th {\n",
              "        text-align: right;\n",
              "    }\n",
              "</style>\n",
              "<table border=\"1\" class=\"dataframe\">\n",
              "  <thead>\n",
              "    <tr style=\"text-align: right;\">\n",
              "      <th></th>\n",
              "      <th>Valor Final</th>\n",
              "    </tr>\n",
              "    <tr>\n",
              "      <th>ID Loja</th>\n",
              "      <th></th>\n",
              "    </tr>\n",
              "  </thead>\n",
              "  <tbody>\n",
              "    <tr>\n",
              "      <th>Óculos e Acessórios da Mikka Alagoinhas</th>\n",
              "      <td>300</td>\n",
              "    </tr>\n",
              "    <tr>\n",
              "      <th>Óculos e Acessórios da Mikka CABUÇU</th>\n",
              "      <td>1563</td>\n",
              "    </tr>\n",
              "    <tr>\n",
              "      <th>Óculos e Acessórios da Mikka FSA</th>\n",
              "      <td>12219</td>\n",
              "    </tr>\n",
              "    <tr>\n",
              "      <th>Óculos e Acessórios da Mikka SERRINHA</th>\n",
              "      <td>1748</td>\n",
              "    </tr>\n",
              "    <tr>\n",
              "      <th>Óculos e Acessórios da Mikka SSA</th>\n",
              "      <td>939</td>\n",
              "    </tr>\n",
              "  </tbody>\n",
              "</table>\n",
              "</div>"
            ],
            "text/plain": [
              "                                         Valor Final\n",
              "ID Loja                                             \n",
              "Óculos e Acessórios da Mikka Alagoinhas          300\n",
              "Óculos e Acessórios da Mikka CABUÇU             1563\n",
              "Óculos e Acessórios da Mikka FSA               12219\n",
              "Óculos e Acessórios da Mikka SERRINHA           1748\n",
              "Óculos e Acessórios da Mikka SSA                 939"
            ]
          },
          "metadata": {},
          "output_type": "display_data"
        }
      ],
      "source": [
        "# faturamento por loja\n",
        "faturamento_por_loja = tabela[[\"ID Loja\", \"Valor Final\"]].groupby(\"ID Loja\").sum()\n",
        "display(faturamento_por_loja)"
      ]
    },
    {
      "cell_type": "code",
      "execution_count": null,
      "id": "bd0bf248",
      "metadata": {
        "id": "bd0bf248",
        "outputId": "5c46786f-c359-4733-ac80-09292c3f7068"
      },
      "outputs": [
        {
          "name": "stdout",
          "output_type": "stream",
          "text": [
            "AxesSubplot(0.125,0.125;0.775x0.755)\n"
          ]
        },
        {
          "data": {
            "image/png": "[encoded data removed]",
            "text/plain": [
              "<Figure size 432x288 with 1 Axes>"
            ]
          },
          "metadata": {
            "needs_background": "light"
          },
          "output_type": "display_data"
        }
      ],
      "source": [
        "import pandas as pd\n",
        "import matplotlib.pyplot as plt\n",
        "\n",
        "dataframe = pd.DataFrame({'Valor Final':[300, 1563, 12219, 1748, 939]},\n",
        "               index = ['Loja Alagoinhas', 'Loja Cabuçu', 'Loja FSA', 'Loja Serrinha', 'Loja SSA'])                                             \n",
        "axis = dataframe.plot.bar(rot=0)\n",
        "print(axis)\n",
        "plt.show()\n"
      ]
    },
    {
      "cell_type": "markdown",
      "source": [
        "# Detalhando Vendas por Filial"
      ],
      "metadata": {
        "id": "HTUQnerg7XKa"
      },
      "id": "HTUQnerg7XKa"
    },
    {
      "cell_type": "code",
      "execution_count": null,
      "id": "e01b4449",
      "metadata": {
        "id": "e01b4449"
      },
      "outputs": [],
      "source": [
        " #Faturamento Loja x Produto"
      ]
    },
    {
      "cell_type": "code",
      "execution_count": null,
      "id": "f1b9e3b4",
      "metadata": {
        "id": "f1b9e3b4",
        "outputId": "a399c4a2-3aaf-475e-fd84-6498f081c6fb"
      },
      "outputs": [
        {
          "data": {
            "text/html": [
              "<div>\n",
              "<style scoped>\n",
              "    .dataframe tbody tr th:only-of-type {\n",
              "        vertical-align: middle;\n",
              "    }\n",
              "\n",
              "    .dataframe tbody tr th {\n",
              "        vertical-align: top;\n",
              "    }\n",
              "\n",
              "    .dataframe thead th {\n",
              "        text-align: right;\n",
              "    }\n",
              "</style>\n",
              "<table border=\"1\" class=\"dataframe\">\n",
              "  <thead>\n",
              "    <tr style=\"text-align: right;\">\n",
              "      <th></th>\n",
              "      <th></th>\n",
              "      <th>Valor Final</th>\n",
              "    </tr>\n",
              "    <tr>\n",
              "      <th>ID Loja</th>\n",
              "      <th>Produto</th>\n",
              "      <th></th>\n",
              "    </tr>\n",
              "  </thead>\n",
              "  <tbody>\n",
              "    <tr>\n",
              "      <th>Óculos e Acessórios da Mikka Alagoinhas</th>\n",
              "      <th>Bermuda</th>\n",
              "      <td>300</td>\n",
              "    </tr>\n",
              "    <tr>\n",
              "      <th rowspan=\"3\" valign=\"top\">Óculos e Acessórios da Mikka CABUÇU</th>\n",
              "      <th>Bermuda Linho</th>\n",
              "      <td>780</td>\n",
              "    </tr>\n",
              "    <tr>\n",
              "      <th>Bermuda Listrado</th>\n",
              "      <td>163</td>\n",
              "    </tr>\n",
              "    <tr>\n",
              "      <th>Bermuda Xadrez</th>\n",
              "      <td>620</td>\n",
              "    </tr>\n",
              "    <tr>\n",
              "      <th rowspan=\"7\" valign=\"top\">Óculos e Acessórios da Mikka FSA</th>\n",
              "      <th>Bermuda</th>\n",
              "      <td>1200</td>\n",
              "    </tr>\n",
              "    <tr>\n",
              "      <th>Bermuda Estampa</th>\n",
              "      <td>676</td>\n",
              "    </tr>\n",
              "    <tr>\n",
              "      <th>Bermuda Linho</th>\n",
              "      <td>585</td>\n",
              "    </tr>\n",
              "    <tr>\n",
              "      <th>Bermuda Liso</th>\n",
              "      <td>8635</td>\n",
              "    </tr>\n",
              "    <tr>\n",
              "      <th>Bermuda Listrado</th>\n",
              "      <td>489</td>\n",
              "    </tr>\n",
              "    <tr>\n",
              "      <th>Bermuda Xadrez</th>\n",
              "      <td>465</td>\n",
              "    </tr>\n",
              "    <tr>\n",
              "      <th>Estampa</th>\n",
              "      <td>169</td>\n",
              "    </tr>\n",
              "    <tr>\n",
              "      <th rowspan=\"4\" valign=\"top\">Óculos e Acessórios da Mikka SERRINHA</th>\n",
              "      <th>Bermuda</th>\n",
              "      <td>450</td>\n",
              "    </tr>\n",
              "    <tr>\n",
              "      <th>Bermuda Estampa</th>\n",
              "      <td>507</td>\n",
              "    </tr>\n",
              "    <tr>\n",
              "      <th>Bermuda Listrado</th>\n",
              "      <td>326</td>\n",
              "    </tr>\n",
              "    <tr>\n",
              "      <th>Bermuda Xadrez</th>\n",
              "      <td>465</td>\n",
              "    </tr>\n",
              "    <tr>\n",
              "      <th rowspan=\"3\" valign=\"top\">Óculos e Acessórios da Mikka SSA</th>\n",
              "      <th>Bermuda</th>\n",
              "      <td>150</td>\n",
              "    </tr>\n",
              "    <tr>\n",
              "      <th>Bermuda Estampa</th>\n",
              "      <td>169</td>\n",
              "    </tr>\n",
              "    <tr>\n",
              "      <th>Bermuda Xadrez</th>\n",
              "      <td>620</td>\n",
              "    </tr>\n",
              "  </tbody>\n",
              "</table>\n",
              "</div>"
            ],
            "text/plain": [
              "                                                          Valor Final\n",
              "ID Loja                                 Produto                      \n",
              "Óculos e Acessórios da Mikka Alagoinhas Bermuda                   300\n",
              "Óculos e Acessórios da Mikka CABUÇU     Bermuda Linho             780\n",
              "                                        Bermuda Listrado          163\n",
              "                                        Bermuda Xadrez            620\n",
              "Óculos e Acessórios da Mikka FSA        Bermuda                  1200\n",
              "                                        Bermuda Estampa           676\n",
              "                                        Bermuda Linho             585\n",
              "                                        Bermuda Liso             8635\n",
              "                                        Bermuda Listrado          489\n",
              "                                        Bermuda Xadrez            465\n",
              "                                        Estampa                   169\n",
              "Óculos e Acessórios da Mikka SERRINHA   Bermuda                   450\n",
              "                                        Bermuda Estampa           507\n",
              "                                        Bermuda Listrado          326\n",
              "                                        Bermuda Xadrez            465\n",
              "Óculos e Acessórios da Mikka SSA        Bermuda                   150\n",
              "                                        Bermuda Estampa           169\n",
              "                                        Bermuda Xadrez            620"
            ]
          },
          "metadata": {},
          "output_type": "display_data"
        }
      ],
      "source": [
        "faturamento_por_produto = tabela[['ID Loja','Produto', 'Valor Final']].groupby(['ID Loja', 'Produto']).sum()\n",
        "faturamento_por_produto = faturamento_por_produto[[\"Valor Final\"]]\n",
        "display(faturamento_por_produto)"
      ]
    },
    {
      "cell_type": "markdown",
      "source": [
        "# Avaliando Faturamento x Produto Mais Vendido"
      ],
      "metadata": {
        "id": "XW0GctMt7h82"
      },
      "id": "XW0GctMt7h82"
    },
    {
      "cell_type": "code",
      "execution_count": null,
      "id": "165357a3",
      "metadata": {
        "id": "165357a3",
        "outputId": "faa0280c-74f5-492f-e1fd-d1d886fe13aa"
      },
      "outputs": [
        {
          "data": {
            "text/html": [
              "<div>\n",
              "<style scoped>\n",
              "    .dataframe tbody tr th:only-of-type {\n",
              "        vertical-align: middle;\n",
              "    }\n",
              "\n",
              "    .dataframe tbody tr th {\n",
              "        vertical-align: top;\n",
              "    }\n",
              "\n",
              "    .dataframe thead th {\n",
              "        text-align: right;\n",
              "    }\n",
              "</style>\n",
              "<table border=\"1\" class=\"dataframe\">\n",
              "  <thead>\n",
              "    <tr style=\"text-align: right;\">\n",
              "      <th></th>\n",
              "      <th>Valor Final</th>\n",
              "    </tr>\n",
              "    <tr>\n",
              "      <th>Produto</th>\n",
              "      <th></th>\n",
              "    </tr>\n",
              "  </thead>\n",
              "  <tbody>\n",
              "    <tr>\n",
              "      <th>Bermuda Liso</th>\n",
              "      <td>8635</td>\n",
              "    </tr>\n",
              "    <tr>\n",
              "      <th>Bermuda Xadrez</th>\n",
              "      <td>2170</td>\n",
              "    </tr>\n",
              "    <tr>\n",
              "      <th>Bermuda</th>\n",
              "      <td>2100</td>\n",
              "    </tr>\n",
              "    <tr>\n",
              "      <th>Bermuda Linho</th>\n",
              "      <td>1365</td>\n",
              "    </tr>\n",
              "    <tr>\n",
              "      <th>Bermuda Estampa</th>\n",
              "      <td>1352</td>\n",
              "    </tr>\n",
              "    <tr>\n",
              "      <th>Bermuda Listrado</th>\n",
              "      <td>978</td>\n",
              "    </tr>\n",
              "    <tr>\n",
              "      <th>Estampa</th>\n",
              "      <td>169</td>\n",
              "    </tr>\n",
              "  </tbody>\n",
              "</table>\n",
              "</div>"
            ],
            "text/plain": [
              "                  Valor Final\n",
              "Produto                      \n",
              "Bermuda Liso             8635\n",
              "Bermuda Xadrez           2170\n",
              "Bermuda                  2100\n",
              "Bermuda Linho            1365\n",
              "Bermuda Estampa          1352\n",
              "Bermuda Listrado          978\n",
              "Estampa                   169"
            ]
          },
          "metadata": {},
          "output_type": "display_data"
        }
      ],
      "source": [
        "faturamento_por_produto = tabela[['ID Loja','Produto', 'Valor Final']].groupby(['Produto']).sum()\n",
        "faturamento_por_produto = faturamento_por_produto[[\"Valor Final\"]].sort_values(by=\"Valor Final\", ascending=False)\n",
        "display(faturamento_por_produto)"
      ]
    },
    {
      "cell_type": "markdown",
      "source": [
        "# Análise para tomada de Decisões - Regra de Negócio"
      ],
      "metadata": {
        "id": "_tGNxmXA7uPN"
      },
      "id": "_tGNxmXA7uPN"
    },
    {
      "cell_type": "markdown",
      "source": [
        "#Conclusão Após análise dos dados\n",
        "\n",
        "1) **A Loja com menor faturamento foi:** Óculos e Acessórios da Mikka Alagoinhas. \n",
        "\n",
        "\n",
        "2) **A Loja com maior faturamento foi:** Óculos e Acessórios da Mikka FSA. \n",
        "\n",
        "3) Ao analisar os produtos no \"Gráfico com o Faturamento de Todos os \n",
        "Produtos separados por Loja\", podemos notar que o Item **\"bermuda lisa\"** foi o de maior venda na loja Óculos e Acessórios da Mikka FSA. \n",
        "\n",
        "4) Podemos analisar tamém que o Item **\"bermuda lisa\"** não estava disponível nas lojas com menor faturamento.\n",
        "\n",
        "#Sugestões para aumento das Vendas:\n",
        "\n",
        "\n",
        "* Avaliar os itens menos vendidos.\n",
        "* Avaliar atendimento aos clientes e público que frequenta as filiais com menor faturamento.\n",
        "* Acrescentar ao estoque das demais lojas, o item **\"bermuda lisa\"** (devido ao grande número de vendas, na loja com maior faturamento Óculos e Acessórios da Mikka FSA)."
      ],
      "metadata": {
        "id": "_4RTy8Oi8J3H"
      },
      "id": "_4RTy8Oi8J3H"
    }
  ],
  "metadata": {
    "kernelspec": {
      "display_name": "Python 3 (ipykernel)",
      "language": "python",
      "name": "python3"
    },
    "language_info": {
      "codemirror_mode": {
        "name": "ipython",
        "version": 3
      },
      "file_extension": ".py",
      "mimetype": "text/x-python",
      "name": "python",
      "nbconvert_exporter": "python",
      "pygments_lexer": "ipython3",
      "version": "3.9.7"
    },
    "colab": {
      "name": "Projeto Análise de dados - Faturamento empresa Òculos da Mikka .ipynb",
      "provenance": [],
      "collapsed_sections": [],
      "toc_visible": true,
      "include_colab_link": true
    }
  },
  "nbformat": 4,
  "nbformat_minor": 5
}